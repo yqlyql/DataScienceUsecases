{
 "cells": [
  {
   "cell_type": "markdown",
   "metadata": {
    "id": "iz5eO1879xIe"
   },
   "source": [
    "In this notebook we use the [Covertype Data Set](http://archive.ics.uci.edu/ml/datasets/Covertype), a dataset describing cartographic \n",
    "features of areas of land in the USA and also its forest type according to the US Forest Service. \n",
    "There are seven classes (1-7), 581012 samples and 54 features.\n",
    "For this analysis, we're only interested in cover type 3.\n",
    "\n",
    "\n"
   ]
  },
  {
   "cell_type": "code",
   "execution_count": 1,
   "metadata": {
    "id": "Xg-JMDIv79IX"
   },
   "outputs": [],
   "source": [
    "import numpy as np\n",
    "import sklearn.datasets\n",
    "import sklearn.linear_model\n",
    "import sklearn.metrics"
   ]
  },
  {
   "cell_type": "code",
   "execution_count": 2,
   "metadata": {
    "id": "68T6rhEf8Hlj"
   },
   "outputs": [],
   "source": [
    "np.random.seed(42)  # do not change for reproducibility"
   ]
  },
  {
   "cell_type": "code",
   "execution_count": 3,
   "metadata": {
    "id": "cG8T67QL92T9"
   },
   "outputs": [],
   "source": [
    "dataset = sklearn.datasets.fetch_covtype()"
   ]
  },
  {
   "cell_type": "code",
   "execution_count": 4,
   "metadata": {
    "id": "gCScXzzy95ui"
   },
   "outputs": [],
   "source": [
    "# only use a random subset for speed - pretend the rest of the data doesn't exist\n",
    "random_sample = np.random.choice(len(dataset.data), len(dataset.data) // 10)\n",
    "\n",
    "COVER_TYPE = 3\n",
    "features = dataset.data[random_sample, :]\n",
    "target = dataset.target[random_sample] == COVER_TYPE"
   ]
  },
  {
   "cell_type": "markdown",
   "metadata": {},
   "source": [
    "## Summary of the main results\n",
    "\n",
    "Here is a summary of the main results:\n",
    "- **Section 1: logistic regression as baseline model**\n",
    "    - Due to the unbalanced nature of the data, it is recommended to also use the \"Balanced Accuracy Score\" and the \"F1 Score\" to evaluate the performance of the model.\n",
    "- **Section 2: should we get more training data?**\n",
    "    - Simply adding more data into the model training does not help.\n",
    "    - Using random under-sampling for the majority class (the non type 3 class) solves the data imbalance issue. \n",
    "- **Section 3: how to decide what feature to include in the deployed model?**\n",
    "    - Random forest is used to find out the 17 most import features.\n",
    "    - Using these 17 features for model training reduces the overall training time, and also maintains the model's performance.\n",
    "    \n",
    "For details please refer to the following analysis."
   ]
  },
  {
   "cell_type": "markdown",
   "metadata": {
    "id": "Saf3YtSl-ddO"
   },
   "source": [
    "## Analysis"
   ]
  },
  {
   "cell_type": "code",
   "execution_count": 5,
   "metadata": {},
   "outputs": [],
   "source": [
    "import pandas as pd\n",
    "import matplotlib.pyplot as plt\n",
    "from sklearn.model_selection import train_test_split, cross_val_score"
   ]
  },
  {
   "cell_type": "markdown",
   "metadata": {},
   "source": [
    "### Preprocessing"
   ]
  },
  {
   "cell_type": "code",
   "execution_count": 6,
   "metadata": {},
   "outputs": [],
   "source": [
    "## convert dataset.data into a pandas dataframe data_df\n",
    "data_df = pd.DataFrame(dataset.data, columns = dataset.feature_names)\n",
    "data_df.columns = data_df.columns.str.lower()\n",
    "data_df.rename(columns={\"horizontal_distance_to_hydrology\": \"hd_hydrology\",\n",
    "                        \"vertical_distance_to_hydrology\": \"vd_hydrology\",\n",
    "                        \"horizontal_distance_to_roadways\": \"hd_hydrology\",\n",
    "                        \"horizontal_distance_to_fire_points\": \"hd_fire_points\"},\n",
    "              inplace=True)\n",
    "\n",
    "## convert dataset.target into a pandas dataframe target_df\n",
    "target_df = pd.DataFrame(dataset.target, columns=dataset.target_names)\n",
    "target_df.columns=target_df.columns.str.lower()"
   ]
  },
  {
   "cell_type": "code",
   "execution_count": 7,
   "metadata": {},
   "outputs": [
    {
     "data": {
      "text/html": [
       "<div>\n",
       "<style scoped>\n",
       "    .dataframe tbody tr th:only-of-type {\n",
       "        vertical-align: middle;\n",
       "    }\n",
       "\n",
       "    .dataframe tbody tr th {\n",
       "        vertical-align: top;\n",
       "    }\n",
       "\n",
       "    .dataframe thead th {\n",
       "        text-align: right;\n",
       "    }\n",
       "</style>\n",
       "<table border=\"1\" class=\"dataframe\">\n",
       "  <thead>\n",
       "    <tr style=\"text-align: right;\">\n",
       "      <th></th>\n",
       "      <th>elevation</th>\n",
       "      <th>aspect</th>\n",
       "      <th>slope</th>\n",
       "      <th>hd_hydrology</th>\n",
       "      <th>vd_hydrology</th>\n",
       "      <th>hd_hydrology</th>\n",
       "      <th>hillshade_9am</th>\n",
       "      <th>hillshade_noon</th>\n",
       "      <th>hillshade_3pm</th>\n",
       "      <th>hd_fire_points</th>\n",
       "      <th>...</th>\n",
       "      <th>soil_type_30</th>\n",
       "      <th>soil_type_31</th>\n",
       "      <th>soil_type_32</th>\n",
       "      <th>soil_type_33</th>\n",
       "      <th>soil_type_34</th>\n",
       "      <th>soil_type_35</th>\n",
       "      <th>soil_type_36</th>\n",
       "      <th>soil_type_37</th>\n",
       "      <th>soil_type_38</th>\n",
       "      <th>soil_type_39</th>\n",
       "    </tr>\n",
       "  </thead>\n",
       "  <tbody>\n",
       "    <tr>\n",
       "      <th>count</th>\n",
       "      <td>581012.000000</td>\n",
       "      <td>581012.000000</td>\n",
       "      <td>581012.000000</td>\n",
       "      <td>581012.000000</td>\n",
       "      <td>581012.000000</td>\n",
       "      <td>581012.000000</td>\n",
       "      <td>581012.000000</td>\n",
       "      <td>581012.000000</td>\n",
       "      <td>581012.000000</td>\n",
       "      <td>581012.000000</td>\n",
       "      <td>...</td>\n",
       "      <td>581012.000000</td>\n",
       "      <td>581012.000000</td>\n",
       "      <td>581012.000000</td>\n",
       "      <td>581012.000000</td>\n",
       "      <td>581012.000000</td>\n",
       "      <td>581012.000000</td>\n",
       "      <td>581012.000000</td>\n",
       "      <td>581012.000000</td>\n",
       "      <td>581012.000000</td>\n",
       "      <td>581012.000000</td>\n",
       "    </tr>\n",
       "    <tr>\n",
       "      <th>mean</th>\n",
       "      <td>2959.365301</td>\n",
       "      <td>155.656807</td>\n",
       "      <td>14.103704</td>\n",
       "      <td>269.428217</td>\n",
       "      <td>46.418855</td>\n",
       "      <td>2350.146611</td>\n",
       "      <td>212.146049</td>\n",
       "      <td>223.318716</td>\n",
       "      <td>142.528263</td>\n",
       "      <td>1980.291226</td>\n",
       "      <td>...</td>\n",
       "      <td>0.044175</td>\n",
       "      <td>0.090392</td>\n",
       "      <td>0.077716</td>\n",
       "      <td>0.002773</td>\n",
       "      <td>0.003255</td>\n",
       "      <td>0.000205</td>\n",
       "      <td>0.000513</td>\n",
       "      <td>0.026803</td>\n",
       "      <td>0.023762</td>\n",
       "      <td>0.015060</td>\n",
       "    </tr>\n",
       "    <tr>\n",
       "      <th>std</th>\n",
       "      <td>279.984734</td>\n",
       "      <td>111.913721</td>\n",
       "      <td>7.488242</td>\n",
       "      <td>212.549356</td>\n",
       "      <td>58.295232</td>\n",
       "      <td>1559.254870</td>\n",
       "      <td>26.769889</td>\n",
       "      <td>19.768697</td>\n",
       "      <td>38.274529</td>\n",
       "      <td>1324.195210</td>\n",
       "      <td>...</td>\n",
       "      <td>0.205483</td>\n",
       "      <td>0.286743</td>\n",
       "      <td>0.267725</td>\n",
       "      <td>0.052584</td>\n",
       "      <td>0.056957</td>\n",
       "      <td>0.014310</td>\n",
       "      <td>0.022641</td>\n",
       "      <td>0.161508</td>\n",
       "      <td>0.152307</td>\n",
       "      <td>0.121791</td>\n",
       "    </tr>\n",
       "    <tr>\n",
       "      <th>min</th>\n",
       "      <td>1859.000000</td>\n",
       "      <td>0.000000</td>\n",
       "      <td>0.000000</td>\n",
       "      <td>0.000000</td>\n",
       "      <td>-173.000000</td>\n",
       "      <td>0.000000</td>\n",
       "      <td>0.000000</td>\n",
       "      <td>0.000000</td>\n",
       "      <td>0.000000</td>\n",
       "      <td>0.000000</td>\n",
       "      <td>...</td>\n",
       "      <td>0.000000</td>\n",
       "      <td>0.000000</td>\n",
       "      <td>0.000000</td>\n",
       "      <td>0.000000</td>\n",
       "      <td>0.000000</td>\n",
       "      <td>0.000000</td>\n",
       "      <td>0.000000</td>\n",
       "      <td>0.000000</td>\n",
       "      <td>0.000000</td>\n",
       "      <td>0.000000</td>\n",
       "    </tr>\n",
       "    <tr>\n",
       "      <th>25%</th>\n",
       "      <td>2809.000000</td>\n",
       "      <td>58.000000</td>\n",
       "      <td>9.000000</td>\n",
       "      <td>108.000000</td>\n",
       "      <td>7.000000</td>\n",
       "      <td>1106.000000</td>\n",
       "      <td>198.000000</td>\n",
       "      <td>213.000000</td>\n",
       "      <td>119.000000</td>\n",
       "      <td>1024.000000</td>\n",
       "      <td>...</td>\n",
       "      <td>0.000000</td>\n",
       "      <td>0.000000</td>\n",
       "      <td>0.000000</td>\n",
       "      <td>0.000000</td>\n",
       "      <td>0.000000</td>\n",
       "      <td>0.000000</td>\n",
       "      <td>0.000000</td>\n",
       "      <td>0.000000</td>\n",
       "      <td>0.000000</td>\n",
       "      <td>0.000000</td>\n",
       "    </tr>\n",
       "    <tr>\n",
       "      <th>50%</th>\n",
       "      <td>2996.000000</td>\n",
       "      <td>127.000000</td>\n",
       "      <td>13.000000</td>\n",
       "      <td>218.000000</td>\n",
       "      <td>30.000000</td>\n",
       "      <td>1997.000000</td>\n",
       "      <td>218.000000</td>\n",
       "      <td>226.000000</td>\n",
       "      <td>143.000000</td>\n",
       "      <td>1710.000000</td>\n",
       "      <td>...</td>\n",
       "      <td>0.000000</td>\n",
       "      <td>0.000000</td>\n",
       "      <td>0.000000</td>\n",
       "      <td>0.000000</td>\n",
       "      <td>0.000000</td>\n",
       "      <td>0.000000</td>\n",
       "      <td>0.000000</td>\n",
       "      <td>0.000000</td>\n",
       "      <td>0.000000</td>\n",
       "      <td>0.000000</td>\n",
       "    </tr>\n",
       "    <tr>\n",
       "      <th>75%</th>\n",
       "      <td>3163.000000</td>\n",
       "      <td>260.000000</td>\n",
       "      <td>18.000000</td>\n",
       "      <td>384.000000</td>\n",
       "      <td>69.000000</td>\n",
       "      <td>3328.000000</td>\n",
       "      <td>231.000000</td>\n",
       "      <td>237.000000</td>\n",
       "      <td>168.000000</td>\n",
       "      <td>2550.000000</td>\n",
       "      <td>...</td>\n",
       "      <td>0.000000</td>\n",
       "      <td>0.000000</td>\n",
       "      <td>0.000000</td>\n",
       "      <td>0.000000</td>\n",
       "      <td>0.000000</td>\n",
       "      <td>0.000000</td>\n",
       "      <td>0.000000</td>\n",
       "      <td>0.000000</td>\n",
       "      <td>0.000000</td>\n",
       "      <td>0.000000</td>\n",
       "    </tr>\n",
       "    <tr>\n",
       "      <th>max</th>\n",
       "      <td>3858.000000</td>\n",
       "      <td>360.000000</td>\n",
       "      <td>66.000000</td>\n",
       "      <td>1397.000000</td>\n",
       "      <td>601.000000</td>\n",
       "      <td>7117.000000</td>\n",
       "      <td>254.000000</td>\n",
       "      <td>254.000000</td>\n",
       "      <td>254.000000</td>\n",
       "      <td>7173.000000</td>\n",
       "      <td>...</td>\n",
       "      <td>1.000000</td>\n",
       "      <td>1.000000</td>\n",
       "      <td>1.000000</td>\n",
       "      <td>1.000000</td>\n",
       "      <td>1.000000</td>\n",
       "      <td>1.000000</td>\n",
       "      <td>1.000000</td>\n",
       "      <td>1.000000</td>\n",
       "      <td>1.000000</td>\n",
       "      <td>1.000000</td>\n",
       "    </tr>\n",
       "  </tbody>\n",
       "</table>\n",
       "<p>8 rows × 54 columns</p>\n",
       "</div>"
      ],
      "text/plain": [
       "           elevation         aspect          slope   hd_hydrology  \\\n",
       "count  581012.000000  581012.000000  581012.000000  581012.000000   \n",
       "mean     2959.365301     155.656807      14.103704     269.428217   \n",
       "std       279.984734     111.913721       7.488242     212.549356   \n",
       "min      1859.000000       0.000000       0.000000       0.000000   \n",
       "25%      2809.000000      58.000000       9.000000     108.000000   \n",
       "50%      2996.000000     127.000000      13.000000     218.000000   \n",
       "75%      3163.000000     260.000000      18.000000     384.000000   \n",
       "max      3858.000000     360.000000      66.000000    1397.000000   \n",
       "\n",
       "        vd_hydrology   hd_hydrology  hillshade_9am  hillshade_noon  \\\n",
       "count  581012.000000  581012.000000  581012.000000   581012.000000   \n",
       "mean       46.418855    2350.146611     212.146049      223.318716   \n",
       "std        58.295232    1559.254870      26.769889       19.768697   \n",
       "min      -173.000000       0.000000       0.000000        0.000000   \n",
       "25%         7.000000    1106.000000     198.000000      213.000000   \n",
       "50%        30.000000    1997.000000     218.000000      226.000000   \n",
       "75%        69.000000    3328.000000     231.000000      237.000000   \n",
       "max       601.000000    7117.000000     254.000000      254.000000   \n",
       "\n",
       "       hillshade_3pm  hd_fire_points  ...   soil_type_30   soil_type_31  \\\n",
       "count  581012.000000   581012.000000  ...  581012.000000  581012.000000   \n",
       "mean      142.528263     1980.291226  ...       0.044175       0.090392   \n",
       "std        38.274529     1324.195210  ...       0.205483       0.286743   \n",
       "min         0.000000        0.000000  ...       0.000000       0.000000   \n",
       "25%       119.000000     1024.000000  ...       0.000000       0.000000   \n",
       "50%       143.000000     1710.000000  ...       0.000000       0.000000   \n",
       "75%       168.000000     2550.000000  ...       0.000000       0.000000   \n",
       "max       254.000000     7173.000000  ...       1.000000       1.000000   \n",
       "\n",
       "        soil_type_32   soil_type_33   soil_type_34   soil_type_35  \\\n",
       "count  581012.000000  581012.000000  581012.000000  581012.000000   \n",
       "mean        0.077716       0.002773       0.003255       0.000205   \n",
       "std         0.267725       0.052584       0.056957       0.014310   \n",
       "min         0.000000       0.000000       0.000000       0.000000   \n",
       "25%         0.000000       0.000000       0.000000       0.000000   \n",
       "50%         0.000000       0.000000       0.000000       0.000000   \n",
       "75%         0.000000       0.000000       0.000000       0.000000   \n",
       "max         1.000000       1.000000       1.000000       1.000000   \n",
       "\n",
       "        soil_type_36   soil_type_37   soil_type_38   soil_type_39  \n",
       "count  581012.000000  581012.000000  581012.000000  581012.000000  \n",
       "mean        0.000513       0.026803       0.023762       0.015060  \n",
       "std         0.022641       0.161508       0.152307       0.121791  \n",
       "min         0.000000       0.000000       0.000000       0.000000  \n",
       "25%         0.000000       0.000000       0.000000       0.000000  \n",
       "50%         0.000000       0.000000       0.000000       0.000000  \n",
       "75%         0.000000       0.000000       0.000000       0.000000  \n",
       "max         1.000000       1.000000       1.000000       1.000000  \n",
       "\n",
       "[8 rows x 54 columns]"
      ]
     },
     "execution_count": 7,
     "metadata": {},
     "output_type": "execute_result"
    }
   ],
   "source": [
    "## take a look at the data\n",
    "data_df.describe()"
   ]
  },
  {
   "cell_type": "code",
   "execution_count": 8,
   "metadata": {
    "scrolled": false
   },
   "outputs": [
    {
     "name": "stdout",
     "output_type": "stream",
     "text": [
      "2    283301\n",
      "1    211840\n",
      "3     35754\n",
      "7     20510\n",
      "6     17367\n",
      "5      9493\n",
      "4      2747\n",
      "Name: cover_type, dtype: int64\n",
      "\n",
      "Cover type percentage:\n",
      "2    48.759922\n",
      "1    36.460521\n",
      "3     6.153746\n",
      "7     3.530048\n",
      "6     2.989095\n",
      "5     1.633873\n",
      "4     0.472796\n",
      "Name: cover_type, dtype: float64\n"
     ]
    },
    {
     "data": {
      "text/plain": [
       "<AxesSubplot:ylabel='cover_type'>"
      ]
     },
     "execution_count": 8,
     "metadata": {},
     "output_type": "execute_result"
    },
    {
     "data": {
      "image/png": "[encoded data removed]",
      "text/plain": [
       "<Figure size 432x288 with 1 Axes>"
      ]
     },
     "metadata": {},
     "output_type": "display_data"
    }
   ],
   "source": [
    "## Portion of the cover types in the whole dataset\n",
    "\n",
    "print(target_df[\"cover_type\"].value_counts())\n",
    "type_percent_series = target_df[\"cover_type\"].value_counts()/target_df[\"cover_type\"].count() * 100\n",
    "print(\"\\nCover type percentage:\")\n",
    "print(type_percent_series)\n",
    "target_df[\"cover_type\"].value_counts().plot.pie()"
   ]
  },
  {
   "cell_type": "markdown",
   "metadata": {},
   "source": [
    "The above analysis shows that the cover_type data is extremely imbalanced. In this test we are only interested in type 3, which is only of 6% of the data."
   ]
  },
  {
   "cell_type": "code",
   "execution_count": 9,
   "metadata": {},
   "outputs": [
    {
     "name": "stdout",
     "output_type": "stream",
     "text": [
      "Total number of records in the random subset: 58101,       \n",
      "number of type 3 records: 3541,       \n",
      "number of other type records: 54560.\n",
      "\n",
      "Percentage of type 3 records: 6.1%\n"
     ]
    }
   ],
   "source": [
    "## Portion of the cover types in the random subset\n",
    "\n",
    "count_true = (target==True).sum()\n",
    "count_false = (target==False).sum()\n",
    "print(f\"Total number of records in the random subset: {len(target)}, \\\n",
    "      \\nnumber of type 3 records: {count_true}, \\\n",
    "      \\nnumber of other type records: {count_false}.\")\n",
    "type3_perc = 100 * count_true / len(target)\n",
    "print(f\"\\nPercentage of type 3 records: {type3_perc:.1f}%\")"
   ]
  },
  {
   "cell_type": "code",
   "execution_count": 10,
   "metadata": {},
   "outputs": [],
   "source": [
    "## create the training set and test set with train_test_split\n",
    "\n",
    "sub_feature_train, sub_feature_test, sub_target_train, sub_target_test = train_test_split(features, target, \n",
    "                                                                                          test_size=0.3, random_state=42)"
   ]
  },
  {
   "cell_type": "code",
   "execution_count": 11,
   "metadata": {},
   "outputs": [],
   "source": [
    "## helper function for corss validation\n",
    "\n",
    "def display_scores(scores):\n",
    "    print('Scores:', scores)\n",
    "    print('Mean:', scores.mean())\n",
    "    print('Standard deviation:', scores.std())\n",
    "    \n",
    "def perform_cross_validations(classifier, X_train, y_train):\n",
    "    accuracy_scores_sub = cross_val_score(classifier, X_train, y_train, scoring=\"accuracy\", cv=10)\n",
    "    balanced_accuracy_scores_sub = cross_val_score(classifier, X_train, y_train, scoring=\"balanced_accuracy\", cv=10)\n",
    "    f1_scores_sub = cross_val_score(classifier, X_train, y_train, scoring=\"f1\", cv=10)\n",
    "    \n",
    "    score_dict = {\n",
    "        \"accuracy_mean\": [accuracy_scores_sub.mean()],\n",
    "        \"accuracy_std\": [accuracy_scores_sub.std()],\n",
    "        \"balanced_accuracy_mean\": [balanced_accuracy_scores_sub.mean()],\n",
    "        \"balanced_accuracy_std\": [balanced_accuracy_scores_sub.std()],\n",
    "        \"f1_mean\": [f1_scores_sub.mean()],\n",
    "        \"f1_std\": [f1_scores_sub.std()]\n",
    "    }\n",
    "    \n",
    "    score_df = pd.DataFrame.from_dict(score_dict)\n",
    "    \n",
    "    print(\"\\nCross validation: accuracy\")\n",
    "    display_scores(accuracy_scores_sub)\n",
    "    \n",
    "    print(\"\\nCross validation: balanced_accuracy\")\n",
    "    display_scores(balanced_accuracy_scores_sub)\n",
    "    \n",
    "    print(\"\\nCross validation: f1\")\n",
    "    display_scores(f1_scores_sub)\n",
    "    \n",
    "    return score_df\n",
    "    \n",
    "def evaluate_with_test_data(y_predict, y_test):\n",
    "    \n",
    "    accuracy_scores_sub = sklearn.metrics.accuracy_score(y_predict, y_test)\n",
    "    balanced_accuracy_scores_sub = sklearn.metrics.balanced_accuracy_score(y_predict, y_test)\n",
    "    f1_scores_sub = sklearn.metrics.f1_score(y_predict, y_test)\n",
    "    \n",
    "    print(f\"\\nAccuracy: {accuracy_scores_sub:.3f}\")\n",
    "    \n",
    "    print(f\"\\nBalanced accuracy: {balanced_accuracy_scores_sub:.3f}\")\n",
    "    \n",
    "    print(f\"\\nF1: {f1_scores_sub:.3f}\")"
   ]
  },
  {
   "cell_type": "markdown",
   "metadata": {},
   "source": [
    "### Section 1: logistic regression as baseline model"
   ]
  },
  {
   "cell_type": "code",
   "execution_count": 12,
   "metadata": {},
   "outputs": [],
   "source": [
    "classifier = sklearn.linear_model.LogisticRegression(solver='liblinear') # do not change this"
   ]
  },
  {
   "cell_type": "code",
   "execution_count": 13,
   "metadata": {},
   "outputs": [
    {
     "name": "stdout",
     "output_type": "stream",
     "text": [
      "\n",
      "Cross validation: accuracy\n",
      "Scores: [0.96090484 0.9628719  0.95721662 0.96483895 0.9641013  0.96311778\n",
      " 0.96164249 0.95942955 0.96360954 0.96336366]\n",
      "Mean: 0.9621096631423655\n",
      "Standard deviation: 0.0022277730990898892\n",
      "\n",
      "Cross validation: balanced_accuracy\n",
      "Scores: [0.78902748 0.79768098 0.77755632 0.83485945 0.82115523 0.82443514\n",
      " 0.82106227 0.78932496 0.81064887 0.81815803]\n",
      "Mean: 0.8083908735253995\n",
      "Standard deviation: 0.017849132373127533\n",
      "\n",
      "Cross validation: f1\n",
      "Scores: [0.64745011 0.66518847 0.61842105 0.7027027  0.6893617  0.68619247\n",
      " 0.675      0.63894967 0.67826087 0.68230277]\n",
      "Mean: 0.6683829820205108\n",
      "Standard deviation: 0.024659987871335776\n"
     ]
    }
   ],
   "source": [
    "## use cross validation to evaluate the classifier's performance\n",
    "## different scoring matrics were used: accuracy, balanced_accuracy, and f1\n",
    "\n",
    "orig_score_df = perform_cross_validations(classifier, sub_feature_train, sub_target_train)"
   ]
  },
  {
   "cell_type": "code",
   "execution_count": 14,
   "metadata": {},
   "outputs": [
    {
     "data": {
      "image/png": "[encoded data removed]",
      "text/plain": [
       "<Figure size 432x288 with 1 Axes>"
      ]
     },
     "metadata": {
      "needs_background": "light"
     },
     "output_type": "display_data"
    }
   ],
   "source": [
    "orig_score_df.rename(index={0:\"original\"}, inplace=True)\n",
    "orig_score_df[[\"accuracy_mean\", \n",
    "               \"balanced_accuracy_mean\", \n",
    "               \"f1_mean\"]].plot(kind=\"bar\",yerr=orig_score_df[[\"accuracy_std\", \n",
    "                                                              \"balanced_accuracy_std\", \n",
    "                                                              \"f1_std\"]].values.T)\n",
    "plt.show()"
   ]
  },
  {
   "cell_type": "code",
   "execution_count": 15,
   "metadata": {},
   "outputs": [
    {
     "name": "stdout",
     "output_type": "stream",
     "text": [
      "\n",
      "Accuracy: 0.960\n",
      "\n",
      "Balanced accuracy: 0.837\n",
      "\n",
      "F1: 0.666\n"
     ]
    }
   ],
   "source": [
    "classifier.fit(sub_feature_train,  sub_target_train)\n",
    "y_predict = classifier.predict(sub_feature_test)\n",
    "evaluate_with_test_data(y_predict, sub_target_test)"
   ]
  },
  {
   "cell_type": "markdown",
   "metadata": {},
   "source": [
    "### Section 2: should we get more training data?\n",
    "\n",
    "***Approach 1: simply involve more data***\n",
    "\n",
    "I first try to involve more data in the cross validation and see if the performance improves with regard to accuracy, balanced accuray, and f1 scores."
   ]
  },
  {
   "cell_type": "code",
   "execution_count": 16,
   "metadata": {},
   "outputs": [],
   "source": [
    "## add column \"is_type3\" in target_df\n",
    "target_df[\"is_type3\"]=(target_df[\"cover_type\"]==3).astype(int)"
   ]
  },
  {
   "cell_type": "code",
   "execution_count": 17,
   "metadata": {},
   "outputs": [],
   "source": [
    "## create the training set and test set with train_test_split\n",
    "\n",
    "data_train, data_test, target_train, target_test = train_test_split(data_df, target_df[\"is_type3\"], test_size=0.3, random_state=42)"
   ]
  },
  {
   "cell_type": "code",
   "execution_count": 18,
   "metadata": {},
   "outputs": [
    {
     "name": "stdout",
     "output_type": "stream",
     "text": [
      "\n",
      "Cross validation: accuracy\n",
      "Scores: [0.96063534 0.96093039 0.96179096 0.96078287 0.96041405 0.96120086\n",
      " 0.96302033 0.96243023 0.96051143 0.96328989]\n",
      "Mean: 0.9615006363289019\n",
      "Standard deviation: 0.001014766759107972\n",
      "\n",
      "Cross validation: balanced_accuracy\n",
      "Scores: [0.79783796 0.80134357 0.81005917 0.81026571 0.78942965 0.80788528\n",
      " 0.82373023 0.8267627  0.80539908 0.82808609]\n",
      "Mean: 0.810079943307659\n",
      "Standard deviation: 0.012117149273940085\n",
      "\n",
      "Cross validation: f1\n",
      "Scores: [0.65754011 0.66184295 0.67311737 0.66791589 0.64969539 0.66834805\n",
      " 0.6895128  0.68841762 0.66274675 0.69386918]\n",
      "Mean: 0.6713006090246179\n",
      "Standard deviation: 0.014057894570823641\n"
     ]
    }
   ],
   "source": [
    "## use corss validation to evaluate the classifier's performance\n",
    "## different scoring matrics were used: accuracy, balanced_accuracy, and f1\n",
    "\n",
    "more_data_score_df = perform_cross_validations(classifier, data_train, target_train)"
   ]
  },
  {
   "cell_type": "code",
   "execution_count": 19,
   "metadata": {},
   "outputs": [
    {
     "data": {
      "image/png": "[encoded data removed]",
      "text/plain": [
       "<Figure size 432x288 with 1 Axes>"
      ]
     },
     "metadata": {
      "needs_background": "light"
     },
     "output_type": "display_data"
    }
   ],
   "source": [
    "more_data_score_df.rename(index={0:\"more_data\"}, inplace=True)\n",
    "\n",
    "all_score_df = pd.concat([orig_score_df, more_data_score_df])\n",
    "\n",
    "all_score_df[[\"accuracy_mean\", \n",
    "               \"balanced_accuracy_mean\", \n",
    "               \"f1_mean\"]].plot(kind=\"bar\",yerr=all_score_df[[\"accuracy_std\", \n",
    "                                                              \"balanced_accuracy_std\", \n",
    "                                                              \"f1_std\"]].values.T)\n",
    "plt.show()"
   ]
  },
  {
   "cell_type": "markdown",
   "metadata": {},
   "source": [
    "The result clearly shows that involving more data into the model training won't improve the model's performance. Therefore, I will try the 2nd approach by getting rid of the impact of the data imbalance.\n",
    "\n",
    "***Approach 2: take care of the data imbalance issue by under-sampling the majority data***\n",
    "\n",
    "The following results show that with balanced data, the model's performance has been significantly improved!"
   ]
  },
  {
   "cell_type": "code",
   "execution_count": 20,
   "metadata": {},
   "outputs": [],
   "source": [
    "from imblearn.under_sampling import RandomUnderSampler"
   ]
  },
  {
   "cell_type": "code",
   "execution_count": 21,
   "metadata": {},
   "outputs": [],
   "source": [
    "## under sample data_df and target_df\n",
    "\n",
    "under_sampler = RandomUnderSampler(random_state=42)\n",
    "data_under_sample, target_under_sample = under_sampler.fit_resample(data_df, target_df[\"is_type3\"])"
   ]
  },
  {
   "cell_type": "code",
   "execution_count": 22,
   "metadata": {},
   "outputs": [
    {
     "name": "stdout",
     "output_type": "stream",
     "text": [
      "data_under_sample.shape:  (71508, 54) \n",
      "target_under_sample.shape:  (71508,)\n"
     ]
    }
   ],
   "source": [
    "## check the sahpe\n",
    "\n",
    "print(\"data_under_sample.shape: \", data_under_sample.shape, \"\\ntarget_under_sample.shape: \", target_under_sample.shape)"
   ]
  },
  {
   "cell_type": "code",
   "execution_count": 23,
   "metadata": {},
   "outputs": [],
   "source": [
    "## create the training set and test set with train_test_split\n",
    "\n",
    "us_data_train, us_data_test, us_target_train, us_target_test = train_test_split(data_under_sample, target_under_sample, \n",
    "                                                                                test_size=0.3, random_state=42)"
   ]
  },
  {
   "cell_type": "code",
   "execution_count": 24,
   "metadata": {},
   "outputs": [
    {
     "name": "stdout",
     "output_type": "stream",
     "text": [
      "\n",
      "Cross validation: accuracy\n",
      "Scores: [0.9572513  0.95904914 0.96444267 0.95904914 0.96144626 0.95844156\n",
      " 0.95984016 0.96063936 0.95784216 0.96203796]\n",
      "Mean: 0.9600039712584658\n",
      "Standard deviation: 0.0020703888075486077\n",
      "\n",
      "Cross validation: balanced_accuracy\n",
      "Scores: [0.95722251 0.95901915 0.96441484 0.95902011 0.96141101 0.95841018\n",
      " 0.95981186 0.96060882 0.95781956 0.96201397]\n",
      "Mean: 0.9599752024576599\n",
      "Standard deviation: 0.0020701778997841767\n",
      "\n",
      "Cross validation: f1\n",
      "Scores: [0.95830086 0.96009344 0.96528861 0.96006234 0.96258965 0.95940671\n",
      " 0.96068844 0.96153095 0.9588132  0.96296296]\n",
      "Mean: 0.9609737163603892\n",
      "Standard deviation: 0.0020359658222299827\n"
     ]
    }
   ],
   "source": [
    "## use corss validation to evaluate the classifier's performance\n",
    "## different scoring matrics were used: accuracy, balanced_accuracy, and f1\n",
    "\n",
    "balanced_data_score_df = perform_cross_validations(classifier, us_data_train, us_target_train)"
   ]
  },
  {
   "cell_type": "code",
   "execution_count": 25,
   "metadata": {},
   "outputs": [
    {
     "data": {
      "image/png": "[encoded data removed]",
      "text/plain": [
       "<Figure size 432x288 with 1 Axes>"
      ]
     },
     "metadata": {
      "needs_background": "light"
     },
     "output_type": "display_data"
    }
   ],
   "source": [
    "balanced_data_score_df.rename(index={0:\"balanced_data\"}, inplace=True)\n",
    "\n",
    "all_score_df = pd.concat([orig_score_df, more_data_score_df, balanced_data_score_df])\n",
    "\n",
    "all_score_df[[\"accuracy_mean\", \n",
    "               \"balanced_accuracy_mean\", \n",
    "               \"f1_mean\"]].plot(kind=\"bar\",yerr=all_score_df[[\"accuracy_std\", \n",
    "                                                              \"balanced_accuracy_std\", \n",
    "                                                              \"f1_std\"]].values.T)\n",
    "plt.show()"
   ]
  },
  {
   "cell_type": "code",
   "execution_count": 26,
   "metadata": {},
   "outputs": [
    {
     "name": "stdout",
     "output_type": "stream",
     "text": [
      "\n",
      "Accuracy: 0.961\n",
      "\n",
      "Balanced accuracy: 0.962\n",
      "\n",
      "F1: 0.962\n"
     ]
    }
   ],
   "source": [
    "## retrain the classifier with balanced data and evaluate its performance\n",
    "\n",
    "balanced_classifier = sklearn.linear_model.LogisticRegression(solver='liblinear')\n",
    "\n",
    "balanced_classifier.fit(us_data_train, us_target_train)\n",
    "balanced_training_predictions = balanced_classifier.predict(us_data_test)\n",
    "\n",
    "evaluate_with_test_data(balanced_training_predictions, us_target_test)"
   ]
  },
  {
   "cell_type": "markdown",
   "metadata": {},
   "source": [
    "### Section 3: how to decide what feature to include in the deployed model?\n",
    "\n",
    "Decision tree or random forest are usually used to determine feature importance. Here we use random forest."
   ]
  },
  {
   "cell_type": "code",
   "execution_count": 27,
   "metadata": {},
   "outputs": [],
   "source": [
    "from sklearn.ensemble import RandomForestClassifier"
   ]
  },
  {
   "cell_type": "code",
   "execution_count": 28,
   "metadata": {},
   "outputs": [
    {
     "data": {
      "text/plain": [
       "RandomForestClassifier()"
      ]
     },
     "execution_count": 28,
     "metadata": {},
     "output_type": "execute_result"
    }
   ],
   "source": [
    "forest_clf = RandomForestClassifier()\n",
    "forest_clf.fit(us_data_train, us_target_train)"
   ]
  },
  {
   "cell_type": "code",
   "execution_count": 29,
   "metadata": {},
   "outputs": [],
   "source": [
    "# plt.rcParams['figure.figsize'] = (20, 10)\n",
    "# plt.rcParams.update({'font.size': 22})"
   ]
  },
  {
   "cell_type": "code",
   "execution_count": 30,
   "metadata": {},
   "outputs": [],
   "source": [
    "feature_names = us_data_train.columns.values.tolist()\n",
    "\n",
    "importance = forest_clf.feature_importances_\n",
    "std = np.std([tree.feature_importances_ for tree in forest_clf.estimators_], axis=0)\n",
    "\n",
    "forest_importance = pd.Series(importance, index=feature_names)"
   ]
  },
  {
   "cell_type": "code",
   "execution_count": 31,
   "metadata": {},
   "outputs": [],
   "source": [
    "## helper function for printing feature importance\n",
    "\n",
    "def print_importance_data(col_names, feature_importances):\n",
    "    fi = sorted(zip(col_names, feature_importances),\n",
    "        key=(lambda x: x[1]), reverse=True)\n",
    "    for i, feature_importance in enumerate(fi[:17]):\n",
    "        feature, importance = feature_importance\n",
    "        print('{}. {}:\\t{}'.format(i + 1, feature.ljust(17), importance))\n",
    "\n",
    "    print(\"Contribution of the 17 most important features:\",\n",
    "        sum([x[1] for x in fi[:17]]))"
   ]
  },
  {
   "cell_type": "code",
   "execution_count": 32,
   "metadata": {},
   "outputs": [
    {
     "name": "stdout",
     "output_type": "stream",
     "text": [
      "1. elevation        :\t0.3517319822925128\n",
      "2. wilderness_area_3:\t0.09843350213852846\n",
      "3. hd_hydrology     :\t0.08109791641911156\n",
      "4. wilderness_area_0:\t0.07869343514439661\n",
      "5. hd_fire_points   :\t0.0727649619640313\n",
      "6. soil_type_3      :\t0.04746346099314257\n",
      "7. soil_type_1      :\t0.03322749231977631\n",
      "8. slope            :\t0.025140345492296035\n",
      "9. soil_type_9      :\t0.020147229901754847\n",
      "10. aspect           :\t0.018391124313747002\n",
      "11. wilderness_area_2:\t0.017954575289293787\n",
      "12. hillshade_9am    :\t0.01720531761819654\n",
      "13. hd_hydrology     :\t0.014618381025304626\n",
      "14. hillshade_noon   :\t0.014582366763863189\n",
      "15. soil_type_28     :\t0.014127393470029784\n",
      "16. vd_hydrology     :\t0.013362824327066819\n",
      "17. hillshade_3pm    :\t0.012812208699857322\n",
      "Contribution of the 17 most important features: 0.9317545181729096\n"
     ]
    }
   ],
   "source": [
    "## print the top 17 important features\n",
    "\n",
    "print_importance_data(feature_names, forest_importance)"
   ]
  },
  {
   "cell_type": "code",
   "execution_count": 33,
   "metadata": {},
   "outputs": [],
   "source": [
    "essential_features = [\n",
    "    \"elevation\",\n",
    "    \"wilderness_area_3\",\n",
    "    \"wilderness_area_0\",\n",
    "    \"hd_hydrology\",\n",
    "    \"hd_fire_points\",\n",
    "    \"soil_type_3\",\n",
    "    \"soil_type_1\",\n",
    "    \"slope\",\n",
    "    \"wilderness_area_2\",\n",
    "    \"soil_type_9\",\n",
    "    \"hillshade_9am\",\n",
    "    \"aspect\",\n",
    "    \"soil_type_28\",\n",
    "    \"hillshade_noon\",\n",
    "    \"hd_hydrology\",\n",
    "    \"hillshade_3pm\",\n",
    "    \"vd_hydrology\"\n",
    "]"
   ]
  },
  {
   "cell_type": "code",
   "execution_count": 34,
   "metadata": {},
   "outputs": [
    {
     "name": "stdout",
     "output_type": "stream",
     "text": [
      "\n",
      "Cross validation: accuracy\n",
      "Scores: [0.95545346 0.95285657 0.95904914 0.95565322 0.95685178 0.95644356\n",
      " 0.95604396 0.95544456 0.95564436 0.95844156]\n",
      "Mean: 0.9561882145022377\n",
      "Standard deviation: 0.001629832250152669\n",
      "\n",
      "Cross validation: balanced_accuracy\n",
      "Scores: [0.95543113 0.95283352 0.95902251 0.95562682 0.9568182  0.95641273\n",
      " 0.9560204  0.95542686 0.95562834 0.95841876]\n",
      "Mean: 0.9561639261756957\n",
      "Standard deviation: 0.0016282979932234658\n",
      "\n",
      "Cross validation: f1\n",
      "Scores: [0.95631734 0.95379796 0.95998438 0.95665756 0.95807453 0.9574385\n",
      " 0.95682889 0.95605911 0.95638507 0.95940671]\n",
      "Mean: 0.9570950055430825\n",
      "Standard deviation: 0.0016758426535843586\n"
     ]
    }
   ],
   "source": [
    "## use corss validation to evaluate the classifier's performance\n",
    "## different scoring matrics were used: accuracy, balanced_accuracy, and f1\n",
    "\n",
    "essential_data_score_df = perform_cross_validations(classifier, us_data_train[essential_features], us_target_train)"
   ]
  },
  {
   "cell_type": "code",
   "execution_count": 35,
   "metadata": {},
   "outputs": [
    {
     "data": {
      "image/png": "[encoded data removed]",
      "text/plain": [
       "<Figure size 432x288 with 1 Axes>"
      ]
     },
     "metadata": {
      "needs_background": "light"
     },
     "output_type": "display_data"
    }
   ],
   "source": [
    "essential_data_score_df.rename(index={0:\"essential_data\"}, inplace=True)\n",
    "\n",
    "all_score_df = pd.concat([orig_score_df, more_data_score_df, balanced_data_score_df, essential_data_score_df])\n",
    "\n",
    "all_score_df[[\"accuracy_mean\", \n",
    "               \"balanced_accuracy_mean\", \n",
    "               \"f1_mean\"]].plot(kind=\"bar\",yerr=all_score_df[[\"accuracy_std\", \n",
    "                                                              \"balanced_accuracy_std\", \n",
    "                                                              \"f1_std\"]].values.T)\n",
    "plt.show()"
   ]
  }
 ],
 "metadata": {
  "colab": {
   "collapsed_sections": [],
   "name": "Copy of Oviva_DataScience_ Edith.ipynb",
   "provenance": [
    {
     "file_id": "1rzeYNjvXlg23BeitqhWtFf8bfwpt5qwr",
     "timestamp": 1613509182411
    },
    {
     "file_id": "1nXzhjNwXnt27P0nO8WgQLsPuB_EvjEAv",
     "timestamp": 1577181393336
    }
   ]
  },
  "kernelspec": {
   "display_name": "Python 3 (ipykernel)",
   "language": "python",
   "name": "python3"
  },
  "language_info": {
   "codemirror_mode": {
    "name": "ipython",
    "version": 3
   },
   "file_extension": ".py",
   "mimetype": "text/x-python",
   "name": "python",
   "nbconvert_exporter": "python",
   "pygments_lexer": "ipython3",
   "version": "3.9.10"
  },
  "latex_envs": {
   "LaTeX_envs_menu_present": true,
   "autoclose": false,
   "autocomplete": true,
   "bibliofile": "biblio.bib",
   "cite_by": "apalike",
   "current_citInitial": 1,
   "eqLabelWithNumbers": true,
   "eqNumInitial": 1,
   "hotkeys": {
    "equation": "Ctrl-E",
    "itemize": "Ctrl-I"
   },
   "labels_anchors": false,
   "latex_user_defs": false,
   "report_style_numbering": false,
   "user_envs_cfg": false
  }
 },
 "nbformat": 4,
 "nbformat_minor": 1
}
